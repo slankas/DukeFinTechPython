{
 "cells": [
  {
   "cell_type": "markdown",
   "id": "c4541d9b",
   "metadata": {},
   "source": [
    "<div class=\"pagebreak\"></div>\n",
    "\n",
    "# Strings - Other Functions\n",
    "\n",
    "## Duplication\n",
    "We can make multiple copies of a string with `*` followed by an integer."
   ]
  },
  {
   "cell_type": "code",
   "execution_count": null,
   "id": "bb29ff22-24a5-4c53-b907-92be6530333d",
   "metadata": {},
   "outputs": [],
   "source": [
    "print(\"test\" * 5)\n",
    "a = 2\n",
    "s = \"test\"\n",
    "print(s * a)"
   ]
  },
  {
   "cell_type": "markdown",
   "id": "1a73e5c8",
   "metadata": {},
   "source": [
    "## Changing Case\n",
    "Python also has several string methods to change the case of a string."
   ]
  },
  {
   "cell_type": "code",
   "execution_count": null,
   "id": "59c5cf26",
   "metadata": {},
   "outputs": [],
   "source": [
    "line = \"a tale of two cities\""
   ]
  },
  {
   "cell_type": "markdown",
   "id": "b7dd0a8e",
   "metadata": {},
   "source": [
    "Capitalize the first word:"
   ]
  },
  {
   "cell_type": "code",
   "execution_count": null,
   "id": "448674de",
   "metadata": {},
   "outputs": [],
   "source": [
    "line.capitalize()"
   ]
  },
  {
   "cell_type": "markdown",
   "id": "3b1019a3",
   "metadata": {},
   "source": [
    "Capitalize all of the words:"
   ]
  },
  {
   "cell_type": "code",
   "execution_count": null,
   "id": "927d8d19",
   "metadata": {},
   "outputs": [],
   "source": [
    "line.title()"
   ]
  },
  {
   "cell_type": "markdown",
   "id": "29694d79",
   "metadata": {},
   "source": [
    "Convert all characters to uppercase:"
   ]
  },
  {
   "cell_type": "code",
   "execution_count": null,
   "id": "ce8e4a97",
   "metadata": {},
   "outputs": [],
   "source": [
    "line.upper()"
   ]
  },
  {
   "cell_type": "markdown",
   "id": "73362ff3",
   "metadata": {},
   "source": [
    "Convert all characters to lower case:"
   ]
  },
  {
   "cell_type": "code",
   "execution_count": null,
   "id": "121cc2d3",
   "metadata": {},
   "outputs": [],
   "source": [
    "'A Tale Of Two Cities'.lower()"
   ]
  },
  {
   "cell_type": "markdown",
   "id": "48563cd5",
   "metadata": {},
   "source": [
    "## Aligning Strings\n",
    "Python also offers a way to align a string within a given number of characters (by default, a space).  You can specify a fill character in the optional second argument."
   ]
  },
  {
   "cell_type": "code",
   "execution_count": null,
   "id": "528a1db5",
   "metadata": {},
   "outputs": [],
   "source": [
    "line = 'A tale of two cities'\n",
    "line.center(50)   # center the string within 50 spaces"
   ]
  },
  {
   "cell_type": "code",
   "execution_count": null,
   "id": "a7dd25f7",
   "metadata": {},
   "outputs": [],
   "source": [
    "line.center(50,'-')"
   ]
  },
  {
   "cell_type": "code",
   "execution_count": null,
   "id": "86a1fa41",
   "metadata": {},
   "outputs": [],
   "source": [
    "line.ljust(50)    # left justify the string within 50 spaces"
   ]
  },
  {
   "cell_type": "code",
   "execution_count": null,
   "id": "d2dd068f",
   "metadata": {},
   "outputs": [],
   "source": [
    "line.rjust(50)    # right justify the string within 50 spaces"
   ]
  },
  {
   "cell_type": "markdown",
   "id": "3cce5758",
   "metadata": {},
   "source": [
    "## Exercises\n",
    "\n",
    "\n",
    "1. Capitalize each word in the following string:<br>```book_title = 'the hitchhiker\\'s guide to the galaxy'```\n"
   ]
  },
  {
   "cell_type": "code",
   "execution_count": null,
   "id": "6a773273-6383-4321-8af4-c1f7f6988296",
   "metadata": {},
   "outputs": [],
   "source": []
  }
 ],
 "metadata": {
  "kernelspec": {
   "display_name": "Python 3 (ipykernel)",
   "language": "python",
   "name": "python3"
  },
  "language_info": {
   "codemirror_mode": {
    "name": "ipython",
    "version": 3
   },
   "file_extension": ".py",
   "mimetype": "text/x-python",
   "name": "python",
   "nbconvert_exporter": "python",
   "pygments_lexer": "ipython3",
   "version": "3.10.4"
  }
 },
 "nbformat": 4,
 "nbformat_minor": 5
}
