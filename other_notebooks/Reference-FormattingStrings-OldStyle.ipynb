{
 "cells": [
  {
   "cell_type": "markdown",
   "id": "6c815fb4",
   "metadata": {},
   "source": [
    "# Formatting Strings - Old Style\n",
    "So far, we've been using string concatenation and multiple arguments to `print()` to format strings.  In this notebook, we will use [printf style formatting](https://en.wikipedia.org/wiki/Printf_format_string) to put values into strings with a variety of different formats. \n",
    "\n",
    "Python offers three different ways to format strings:\n",
    "- old style (all versions of Pythons) - this notebook\n",
    "- new style (Python 2.6 +)\n",
    "- f-strings (Python 3.6 +)\n",
    "\n",
    "In this notebook, we are directly printing the results of the formatting, but we can also assign the results to a variable or use as an expression (e.g., as an argument to a function)."
   ]
  },
  {
   "cell_type": "markdown",
   "id": "75c6e523",
   "metadata": {},
   "source": [
    "## Old style: %\n",
    "This format uses the form of _format_string_ % data.  Within each string are one of more placeholder fields that will be replaced by values after the `%` operator.  \n",
    "\n",
    "Note: The book _Introducing Python_ does considers this formatting to be string interpolation as the format strings contain placeholders.  Others strictly require expressions to be supported to be considered true string interpoloation (which exists in f-strings).\n",
    "\n",
    "While development and support of Python 2 has ended, the old style formatting will remain in Python for the forseeable future.\n",
    "\n",
    "Placeholders follow this format: `%[flags][minWidth][.maxchars]type`\n",
    "\n",
    "The square brackets indicate an optional component.\n",
    "\n",
    "| Type | Description |\n",
    "|------|:-------|\n",
    "| %s   | string |\n",
    "| %d   | integer |\n",
    "| %x   | hexadecimal integer |\n",
    "| %o   | octal integer |\n",
    "| %f   | float |\n",
    "| %e   | float in exponential format |\n",
    "| %g   | decimal or exponential float |\n",
    "| %%   | the character % |\n",
    "\n",
    "\n",
    "For the optional components - \n",
    "\n",
    "The flags have the possible options\n",
    "- `-` left aligns the output of the placeholder.\n",
    "- `+` Prepends a plus for positive signed-numeric types\n",
    "- `0` will prepend zeros for numeric types if the width is present\n",
    "\n",
    "The minwidth is the minimum size of the placeholder.\n",
    "\n",
    "If the type is a string, _.maxchars_ specifies how many characters to print from the data value.<br>\n",
    "If the type is a float, _.maxchars_ specifies the precision - the number of digits after the decimal point.\n",
    "If the type is an integer, _.maxchars_ specifies the length of the integer to print. zeros will be prepended if the number is less than that length.\n"
   ]
  },
  {
   "cell_type": "code",
   "execution_count": null,
   "id": "56a6ba09",
   "metadata": {},
   "outputs": [],
   "source": [
    "alphabet = \"abcdefghijklmnopqrstuvwxyz\"\n",
    "print(\"123456789012345678901234567890\")\n",
    "print(\"%s\" % alphabet)\n",
    "print(\"%.5s\" % alphabet)\n",
    "print(\"%30.5s\" % alphabet)\n",
    "print(\"%-30.5s\" % alphabet)"
   ]
  },
  {
   "cell_type": "code",
   "execution_count": null,
   "id": "d70221b6",
   "metadata": {},
   "outputs": [],
   "source": [
    "year = 1892\n",
    "print(\"123456789012345678901234567890\")\n",
    "print(\"%d\" % year)\n",
    "print(\"%20d\" % year)\n",
    "print(\"%+20d\" % year)\n",
    "print(\"%020d\" % year)\n",
    "print(\"%20.8d\" % year)\n",
    "print(\"%-20d\" % year)\n",
    "print(\"%x\" % year)\n",
    "print(\"%o\" % year)"
   ]
  },
  {
   "cell_type": "code",
   "execution_count": null,
   "id": "1368d69d",
   "metadata": {},
   "outputs": [],
   "source": [
    "gain = 64.98712\n",
    "print(\"123456789012345678901234567890\")\n",
    "print(\"%f\" % gain)\n",
    "print(\"%20f\" % gain)\n",
    "print(\"%+20f\" % gain)\n",
    "print(\"%020f\" % gain)\n",
    "print(\"%20.8f\" % gain)\n",
    "print(\"%20.2f\" % gain)\n",
    "print(\"%-20f\" % gain)\n"
   ]
  },
  {
   "cell_type": "code",
   "execution_count": null,
   "id": "f042cebe",
   "metadata": {},
   "outputs": [],
   "source": [
    "gain = 604132421.988\n",
    "print(\"123456789012345678901234567890\")\n",
    "print(\"%e\" % gain)\n",
    "print(\"%20e\" % gain)\n",
    "print(\"%+20e\" % gain)\n",
    "print(\"%020e\" % gain)\n",
    "print(\"%20.8e\" % gain)\n",
    "print(\"%20.2e\" % gain)\n",
    "print(\"%-20e\" % gain)\n",
    "print(\"%20.12e\" % gain)"
   ]
  },
  {
   "cell_type": "markdown",
   "id": "2df6e353",
   "metadata": {},
   "source": [
    "Of course, we can include other content within these strings"
   ]
  },
  {
   "cell_type": "code",
   "execution_count": null,
   "id": "99fb569b",
   "metadata": {},
   "outputs": [],
   "source": [
    "print(\"In %d, Duke University moved to Durham, North Carolina.\" % 1892)"
   ]
  },
  {
   "cell_type": "markdown",
   "id": "7f7eafe3",
   "metadata": {},
   "source": [
    "You can also specify multiple placeholders within a string.  The values will put inside of a tuple (which you will see in Notebook 3d).  For right now, you just need to know that tuples are bound by paranthesis with values separated inside by commas"
   ]
  },
  {
   "cell_type": "code",
   "execution_count": null,
   "id": "ada72d8b",
   "metadata": {},
   "outputs": [],
   "source": [
    "year = 1838\n",
    "school = \"Duke University\"\n",
    "city = \"Trinity, North Carolina\"\n",
    "print(\"In %d, %s was founded in %s.\" % (year,school,city))\n",
    "year = 1842\n",
    "school = \"the University of Notre Dame\"\n",
    "city = \"South Bend, Indiana\"\n",
    "print(\"In %d, %s was founded in %s.\" % (year,school,city))"
   ]
  },
  {
   "cell_type": "code",
   "execution_count": null,
   "id": "49dd552d",
   "metadata": {},
   "outputs": [],
   "source": []
  }
 ],
 "metadata": {
  "kernelspec": {
   "display_name": "Python 3 (ipykernel)",
   "language": "python",
   "name": "python3"
  },
  "language_info": {
   "codemirror_mode": {
    "name": "ipython",
    "version": 3
   },
   "file_extension": ".py",
   "mimetype": "text/x-python",
   "name": "python",
   "nbconvert_exporter": "python",
   "pygments_lexer": "ipython3",
   "version": "3.8.10"
  }
 },
 "nbformat": 4,
 "nbformat_minor": 5
}
