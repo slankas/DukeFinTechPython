{
 "cells": [
  {
   "cell_type": "markdown",
   "id": "64ad0e90",
   "metadata": {},
   "source": [
    "# Formatting Strings -  f-strings"
   ]
  },
  {
   "cell_type": "markdown",
   "id": "38602ad9",
   "metadata": {},
   "source": [
    "Appearing in Python3.6, f-strings are now the \"recommended\" approach to format strings. (Although, if you are using the `gettext` module to create localized string for different countries, you'll want to  use the \"new style\" method from the previous section.\n",
    "\n",
    "To create an f-string:\n",
    "- place the letter `f` or `F` immediately before the start of a string literal\n",
    "- use variable names or expressions within curly braces to interpolate their values into the string.\n",
    "\n",
    "f-strings use the same formatting language as the new-style formatting, just use a `:` after the variable name or expression.\n",
    "\n",
    "### Formatting \n",
    "`{:[fill][alignment][sign][minwidth][.][maxchars]type}`\n",
    "    \n",
    "- An initial colon (':').\n",
    "- An optional fill character (default ' ') to pad the value string if it’s shorter than minwidth.\n",
    "- An optional alignment character:\n",
    "  - '<' left (the default)\n",
    "  - '>' right\n",
    "  - '^' center\n",
    "- An optional sign for numbers. If `+` is specified, a plus symbol will be added to positive numbers.  Negative numbers always have a minus sign.\n",
    "- An optional minwidth. \n",
    "- An optional period ('.') to separate minwidth and maxchars if both are defined.  If only one is defined, assumed to be maxchars\n",
    "- An optional maxchars.  If this is the a float type, then this specifies the precision.\n",
    "- the type, which are the same as the old style\n",
    "\n",
    "\n",
    "| Type | Description |\n",
    "|------|:-------|\n",
    "| s   | string |\n",
    "| d   | integer |\n",
    "| x   | hexadecimal integer |\n",
    "| o   | octal integer |\n",
    "| f   | float |\n",
    "| e   | float in exponential format |\n",
    "| g   | decimal or exponential float |"
   ]
  },
  {
   "cell_type": "code",
   "execution_count": null,
   "id": "afdbe5ca",
   "metadata": {},
   "outputs": [],
   "source": [
    "year = 1838\n",
    "move_year = 1892\n",
    "school = \"Duke University\"\n",
    "city = \"Trinity, North Carolina\"\n",
    "print(f\"In {year}, {school} was founded in {city}. {move_year-year} years later, {school} moved to Durham.\")"
   ]
  },
  {
   "cell_type": "markdown",
   "id": "5ad04ad7",
   "metadata": {},
   "source": [
    "As of Python 3.8, there's also a useful shortcut to display variable names in the output.  Just add `=` after ther variable name or expression."
   ]
  },
  {
   "cell_type": "code",
   "execution_count": null,
   "id": "401ed74e",
   "metadata": {},
   "outputs": [],
   "source": [
    "year = 1838\n",
    "move_year = 1892\n",
    "school = \"Duke University\"\n",
    "city = \"Trinity, North Carolina\"\n",
    "print(f\"In {year=}, {school=} was founded in {city}. {move_year-year=} years later, {school} moved to Durham.\")"
   ]
  },
  {
   "cell_type": "code",
   "execution_count": null,
   "id": "a95dbeb8",
   "metadata": {},
   "outputs": [],
   "source": [
    "year = 1892\n",
    "print(\"123456789012345678901234567890\")\n",
    "print(f\"{year:+20d}\")\n",
    "print(f\"{year=:+20d}\")"
   ]
  },
  {
   "cell_type": "code",
   "execution_count": null,
   "id": "cb8a41ed",
   "metadata": {},
   "outputs": [],
   "source": []
  }
 ],
 "metadata": {
  "kernelspec": {
   "display_name": "Python 3 (ipykernel)",
   "language": "python",
   "name": "python3"
  },
  "language_info": {
   "codemirror_mode": {
    "name": "ipython",
    "version": 3
   },
   "file_extension": ".py",
   "mimetype": "text/x-python",
   "name": "python",
   "nbconvert_exporter": "python",
   "pygments_lexer": "ipython3",
   "version": "3.8.10"
  }
 },
 "nbformat": 4,
 "nbformat_minor": 5
}
