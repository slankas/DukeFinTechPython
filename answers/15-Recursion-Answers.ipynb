{
 "cells": [
  {
   "cell_type": "markdown",
   "id": "b5993e59",
   "metadata": {},
   "source": [
    "4. Implement a modified version of the Linux command-line program tree as a recursive function.  Below is the output.  In this example, we called it with the current directory.  Files and directories should be listed in alphabetical order.  The number in parenthesis is the size of the file in bytes.  At the bottom of the output, is the number of directories and files underneath the directory that started the recursion. i.e., the initial directory is not included.  The final number is the total number of bytes allocated to the entire structure, including the initial directory.  The starting point to your code should be `tree(directory_name)`.  You can assume there will always be multiples files and directories. i.e., you do not have to special case the plurals for this problem.  You should show all files (including hidden - files that start with a period).  Implementation note: to be able to reference a variable defined by outer function within a nested function use the `nonlocal` keyword.  This functions similarly to the `global` keyword used when discussing namespaces.\n",
    "\n",
    "<pre>\n",
    ".\n",
    "├── 00-Preliminaries.ipynb (456,333)\n",
    "├── 01-Introduction.ipynb (799,312)\n",
    "├── answers\n",
    "│   ├── 02-Answers (23,333)\n",
    "│   ├── 03-Answers (76,566)\n",
    "├── data\n",
    "│   ├── PakistanSuicideAttacks.csv (264,320)\n",
    "│   ├── djia_returns_1886_2022.csv (56,203)\n",
    "│   └── state_populations.txt (25,850)\n",
    "├── images\n",
    "│   ├── ifElifStatement.png (45,045) \n",
    "│   ├── ifElseStatement.png (47,334)\n",
    "\n",
    "3 directories, 9 files\n",
    "2,345,333 bytes\n",
    "<pre>"
   ]
  },
  {
   "cell_type": "code",
   "execution_count": null,
   "id": "411d2bb0",
   "metadata": {},
   "outputs": [],
   "source": [
    "import os\n",
    "\n",
    "def tree(directory):\n",
    "    total_size = 0\n",
    "    num_directories = 0\n",
    "    num_files = 0\n",
    "    \n",
    "    def get_file_size(name):\n",
    "        return os.path.getsize(name)\n",
    "    \n",
    "    def print_line(name, depth, size):\n",
    "        nonlocal total_size\n",
    "        total_size += size\n",
    "        if depth == 0:\n",
    "            print (name)\n",
    "        else:\n",
    "            for i in range(depth-1):\n",
    "                print(\"│   \",end=\"\")\n",
    "            print(\"├──\",name,\"({:,d})\".format(size))\n",
    "    \n",
    "    def walk(name, full_directory_name, depth):\n",
    "        nonlocal num_directories\n",
    "        nonlocal num_files\n",
    "        \n",
    "        print_line(name,depth,get_file_size(full_directory_name))\n",
    "        \n",
    "        files = sorted(os.listdir(full_directory_name))\n",
    "        for file in files:\n",
    "            test_filename = os.path.join(full_directory_name,file)\n",
    "            if (os.path.isdir(test_filename)):\n",
    "                num_directories += 1\n",
    "                walk(file, test_filename, depth+1)\n",
    "            else:\n",
    "                print_line(file,depth+1,get_file_size(test_filename))\n",
    "                num_files += 1\n",
    "    \n",
    "    walk(directory,directory,0)\n",
    "           \n",
    "    print()\n",
    "    print(\"{:,d} directories {:,d} files\".format(num_directories, num_files))    \n",
    "    print(\"{:,d} bytes\".format(total_size))\n",
    "    \n",
    "                \n",
    "tree(\".\")"
   ]
  }
 ],
 "metadata": {
  "kernelspec": {
   "display_name": "Python 3 (ipykernel)",
   "language": "python",
   "name": "python3"
  },
  "language_info": {
   "codemirror_mode": {
    "name": "ipython",
    "version": 3
   },
   "file_extension": ".py",
   "mimetype": "text/x-python",
   "name": "python",
   "nbconvert_exporter": "python",
   "pygments_lexer": "ipython3",
   "version": "3.10.4"
  }
 },
 "nbformat": 4,
 "nbformat_minor": 5
}
