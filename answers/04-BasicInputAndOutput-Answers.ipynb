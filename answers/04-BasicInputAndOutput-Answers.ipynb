{
 "cells": [
  {
   "cell_type": "markdown",
   "id": "283daca7",
   "metadata": {},
   "source": [
    "# Basic Input and Output\n",
    "\n",
    "1) What's wrong with this code?\n",
    "```\n",
    "interest_rate = input(\"Enter an interest rate\")\n",
    "print(\"On 1000 dollars, you will owe \", 1000 * interest_rate)\n",
    "```\n",
    "The string return type should be converted to a float.  Additionally, it's not clear whether the user is entering a value like 5% or 0.05\n",
    "\n",
    "\n",
    "2) Using the formula for compound interest.  Have the user enter the initial principal, interest rate, and number of years.  Assume the interest is compounded monthly."
   ]
  },
  {
   "cell_type": "code",
   "execution_count": 1,
   "id": "d7e6d35b",
   "metadata": {},
   "outputs": [
    {
     "name": "stdout",
     "output_type": "stream",
     "text": [
      "What is the initial principle? 100\n",
      "What is the interest rate - express this as a decimal such as 0.07 for 7%?0.07\n",
      "For how many years?30\n",
      "811.6497475359678\n"
     ]
    }
   ],
   "source": [
    "principle = float(input(\"What is the initial principle? \"))\n",
    "rate      = float(input(\"What is the interest rate - express this as a decimal such as 0.07 for 7%?\"))\n",
    "years     = int(input(\"For how many years?\"))\n",
    "n = 12\n",
    "amount = principle * (1 + rate/n)**(n*years)\n",
    "print(amount)    "
   ]
  },
  {
   "cell_type": "markdown",
   "id": "6a63a86e",
   "metadata": {},
   "source": [
    "3) Write a program to determine the monthly payment for a 30 year mortgage for an initial principal amount and interest rate that the user specifies.\n",
    "\n",
    "$ A = P \\times \\dfrac{r(1+r)^n}{(1+r)^n - 1} $  \n",
    "\n",
    "- $A$ is the periodic amortization payment\n",
    "- $P$ is the principal amount borrowed\n",
    "- $r$ is the rate of interest expressed as a fraction; for a monthly payment, take the (Annual Rate)/12\n",
    "- $n$ is the number of payments; for monthly payments over 30 years, 12 months x 30 years = 360 payments.\n",
    "\n",
    "[Formula](https://en.wikipedia.org/wiki/Mortgage_loan#Principal_and_interest)"
   ]
  },
  {
   "cell_type": "markdown",
   "id": "13b0be39-c8e8-4584-99b0-a03ff5e7b4e3",
   "metadata": {},
   "source": [
    "_Class assignment, answer not provided._"
   ]
  }
 ],
 "metadata": {
  "kernelspec": {
   "display_name": "Python 3 (ipykernel)",
   "language": "python",
   "name": "python3"
  },
  "language_info": {
   "codemirror_mode": {
    "name": "ipython",
    "version": 3
   },
   "file_extension": ".py",
   "mimetype": "text/x-python",
   "name": "python",
   "nbconvert_exporter": "python",
   "pygments_lexer": "ipython3",
   "version": "3.10.4"
  }
 },
 "nbformat": 4,
 "nbformat_minor": 5
}
