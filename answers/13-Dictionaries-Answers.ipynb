{
 "cells": [
  {
   "cell_type": "markdown",
   "id": "c8a080ef",
   "metadata": {},
   "source": [
    "# Dictionaries: Answers\n"
   ]
  },
  {
   "cell_type": "markdown",
   "id": "449807cb",
   "metadata": {},
   "source": [
    "11. Write a method to create a text-based horizontal histogram.  You should have the following function signature:\n",
    "```\n",
    "def create_histogram(data, title, sort=False, max_table_width=70, max_label_width=10):\n",
    "```\n",
    "\n",
    "So the following - \n",
    "```\n",
    "data = { \"apples\": 58, \"pears\": 10, \"grapes\":35, \"pineapple\":70}\n",
    "create_histogram(data,\"Number of Fruits in Basket\", max_table_width=80, max_label_width=7)\n",
    "```\n",
    "produces\n",
    "```\n",
    "                           Number of Fruits in Basket                           \n",
    "\n",
    " apples │*********************************************************** 58\n",
    "  pears │********** 10\n",
    " grapes │************************************ 35\n",
    "pineapp │************************************************************************ 70\n",
    "        └───────────────────────────────────┰───────────────────────────────────┐\n",
    "        0                                  35                                  70\n",
    "```\n",
    "Then\n",
    "```\n",
    "create_histogram(data,\"Number of Fruits in Basket\", sort=True, max_table_width=85, max_label_width=7)\n",
    "```\n",
    "produces\n",
    "```\n",
    "                              Number of Fruits in Basket                             \n",
    "\n",
    "  pears │*********** 10\n",
    " grapes │************************************** 35\n",
    " apples │*************************************************************** 58\n",
    "pineapp │***************************************************************************** 70\n",
    "        └─────────────────────────────────────┰──────────────────────────────────────┐\n",
    "        0                                    35                                     70\n",
    "```\n",
    "\n",
    "[Unicode Characters: Box Drawing](https://web.archive.org/web/20220403113744/https://jrgraphix.net/r/Unicode/2500-257F\n",
    "\n",
    "Assume all values are positive.  As you start this problem, break into down into sub-problems and solve those individually.  Create a little success for yourself.  For example, how would you produce the row labels along the left hand side?  What other sub-problems exist?  What should you tackle next?\n",
    "\n",
    "This exercise brings together many different topics: functions, default parameters, math operations, variables, string methods, string formatting iteration, dictionaries"
   ]
  },
  {
   "cell_type": "code",
   "execution_count": 1,
   "id": "71ec48eb",
   "metadata": {},
   "outputs": [],
   "source": [
    "def create_histogram(data, title, sort=False, max_table_width=70, max_label_width=10):\n",
    "    max_data_value = int(max(data.values()))\n",
    "    mid_data_value = max_data_value//2\n",
    "    max_bar_length = max_table_width - max_label_width -1\n",
    "    offset = max_bar_length % 2      #if bar length is odd, we need a bit more space on the last tick to avoid off by 1\n",
    "\n",
    "    print(title.center(max_table_width)+\"\\n\")\n",
    "\n",
    "    items = sorted(data, key=data.get) if sort else data.keys()\n",
    "    \n",
    "    for item in items:\n",
    "        print(\"{:>{w}.{w}} \\u2502\".format(item,w=max_label_width),end='')\n",
    "        value = data[item]\n",
    "        bar_length = int(value / max_data_value * max_bar_length)\n",
    "        print(\"*\"*bar_length, value)\n",
    "        \n",
    "    print(\" \"*(max_label_width+1) + \"\\u2514\" + \"\\u2500\"*(max_bar_length//2-1) + \"\\u2530\" +\n",
    "         \"\\u2500\"*(max_bar_length//2 + offset -1)   + \n",
    "          \"\\u2510\" )\n",
    "    print(\" \"*(max_label_width+1) + \"0\"+\"{:>{w}d}\".format(mid_data_value,w=max_bar_length//2) + \n",
    "          \"{:>{w}d}\".format(max_data_value, w= max_bar_length//2+offset))"
   ]
  },
  {
   "cell_type": "code",
   "execution_count": 4,
   "id": "981d3c17",
   "metadata": {},
   "outputs": [
    {
     "name": "stdout",
     "output_type": "stream",
     "text": [
      "                           Number of Fruits in Basket                           \n",
      "\n",
      " apples │*********************************************************** 58\n",
      "  pears │********** 10\n",
      " grapes │************************************ 35\n",
      "pineapp │************************************************************************ 70\n",
      "        └───────────────────────────────────┰───────────────────────────────────┐\n",
      "        0                                  35                                  70\n"
     ]
    }
   ],
   "source": [
    "data = { \"apples\": 58, \"pears\": 10, \"grapes\":35, \"pineapple\":70}\n",
    "create_histogram(data,\"Number of Fruits in Basket\", sort=False, max_table_width=80, max_label_width=7)"
   ]
  }
 ],
 "metadata": {
  "kernelspec": {
   "display_name": "Python 3 (ipykernel)",
   "language": "python",
   "name": "python3"
  },
  "language_info": {
   "codemirror_mode": {
    "name": "ipython",
    "version": 3
   },
   "file_extension": ".py",
   "mimetype": "text/x-python",
   "name": "python",
   "nbconvert_exporter": "python",
   "pygments_lexer": "ipython3",
   "version": "3.10.4"
  }
 },
 "nbformat": 4,
 "nbformat_minor": 5
}
