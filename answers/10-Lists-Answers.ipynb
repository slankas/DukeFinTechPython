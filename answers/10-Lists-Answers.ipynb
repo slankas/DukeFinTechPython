{
 "cells": [
  {
   "cell_type": "markdown",
   "id": "a473e400",
   "metadata": {},
   "source": [
    "# Lists\n",
    "For the exercises 1 - 7, use the following list.  Use the Python functions and methods.\n",
    "`grades  = [87.6, 92.3, 84.5, 90.0, 86.0, 98.6]`\n",
    "\n",
    "1. How many elements are in the list?\n",
    "2. Provide two ways of getting the first element in the list.\n",
    "3. Provide two ways of getting the last element in the list\n",
    "4. Remove the first element from the list and return the value.\n",
    "5. Remove the last element from the list and return the value\n",
    "6. Concatenate this list to grades:  `[76.4, 99.2, 88.8]`\n",
    "7. Sort the list"
   ]
  },
  {
   "cell_type": "code",
   "execution_count": null,
   "id": "dcdecc45",
   "metadata": {},
   "outputs": [],
   "source": [
    "grades  = [87.6, 92.3, 84.5, 90.0, 86.0, 98.6]\n",
    "\n",
    "#1. length\n",
    "len(grades)\n",
    "\n",
    "#2\n",
    "print(grades[0])\n",
    "print(grades[-len(grades)])\n",
    "\n",
    "#3 \n",
    "print(grades[len(grades)-1])\n",
    "print(grades[-1])\n",
    "\n",
    "#4\n",
    "grades.pop(0)\n",
    "\n",
    "#5\n",
    "grades.pop\n",
    "\n",
    "#6\n",
    "grades = grades + [76.4, 99.2, 88.8]\n",
    "print(grades)\n",
    "\n",
    "#7 \n",
    "grades.sort()\n",
    "print(grades)"
   ]
  },
  {
   "cell_type": "markdown",
   "id": "3049aabe",
   "metadata": {},
   "source": [
    "8. Write a short program that reads in a sentence from a user.  Then create a list of words (punctuation can be included as part of the words) by separating the words/characters by whitespace.  Then reverse the list. Finally, join the list back together into a single string with words separated by a colon `:` and print the resulting string."
   ]
  },
  {
   "cell_type": "code",
   "execution_count": null,
   "id": "a4eda774",
   "metadata": {},
   "outputs": [],
   "source": [
    "# Answer to #1\n",
    "sentence = input(\"Enter a sentence: \")\n",
    "word_list = sentence.split()\n",
    "word_list.reverse()\n",
    "result = \":\".join(word_list)\n",
    "print(result)"
   ]
  }
 ],
 "metadata": {
  "kernelspec": {
   "display_name": "Python 3 (ipykernel)",
   "language": "python",
   "name": "python3"
  },
  "language_info": {
   "codemirror_mode": {
    "name": "ipython",
    "version": 3
   },
   "file_extension": ".py",
   "mimetype": "text/x-python",
   "name": "python",
   "nbconvert_exporter": "python",
   "pygments_lexer": "ipython3",
   "version": "3.10.4"
  }
 },
 "nbformat": 4,
 "nbformat_minor": 5
}
