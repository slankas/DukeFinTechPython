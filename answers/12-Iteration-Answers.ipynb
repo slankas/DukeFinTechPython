{
 "cells": [
  {
   "cell_type": "markdown",
   "id": "6f03c92a",
   "metadata": {},
   "source": [
    "# Iteration\n",
    "1. Write a function greater_than_x that takes two parameters: a list and a number.  The function should return a new list consisting of any entries in the list greater than the number.  Assume all entries in the list are numbers."
   ]
  },
  {
   "cell_type": "code",
   "execution_count": 1,
   "id": "9f999b28",
   "metadata": {},
   "outputs": [],
   "source": [
    "def greater_than_x(l, x):\n",
    "    result = []\n",
    "    for y in l:\n",
    "        if y > x:\n",
    "            result.append(y)\n",
    "    return result"
   ]
  },
  {
   "cell_type": "code",
   "execution_count": 2,
   "id": "e638ad51",
   "metadata": {},
   "outputs": [
    {
     "data": {
      "text/plain": [
       "[6, 7, 8, 9, 10]"
      ]
     },
     "execution_count": 2,
     "metadata": {},
     "output_type": "execute_result"
    }
   ],
   "source": [
    "greater_than_x([1,2,3,5,6,7,8,9,10],5)"
   ]
  },
  {
   "cell_type": "markdown",
   "id": "ee6e7bc6",
   "metadata": {},
   "source": [
    "2. Given this list of closing stock prices, create functions to compute the mean, median, and standard deviation.  Assume that we have a sample, but you can also write your function to make this an optional flag.\n",
    "```\n",
    "stock_prices = [ 123.75, 124.38, 121.78, 123.24, 122.41, 121.78, 127.88, 127.81, 128.70, 131.88]\n",
    "```"
   ]
  },
  {
   "cell_type": "code",
   "execution_count": null,
   "id": "a86cd71b",
   "metadata": {},
   "outputs": [],
   "source": [
    "stock_prices = [ 123.75, 124.38, 121.78, 123.24, 122.41, 121.78, 127.88, 127.81, 128.70, 131.88]\n",
    "def compute_mean(values):\n",
    "    return sum(values)/len(values)\n",
    "\n",
    "def compute_mean_loop(values):\n",
    "    total = 0\n",
    "    for price in values:\n",
    "        total = total + price\n",
    "    return total / len(values)\n",
    "\n",
    "\n",
    "\n",
    "def compute_median(values):\n",
    "    sorted_list = sorted(values)\n",
    "    num_elements = len(values)\n",
    "    if len(values) %2 == 0:\n",
    "        return (sorted_list[num_elements//2] + sorted_list[(num_elements//2)-1])/2\n",
    "    else:\n",
    "        return sorted_list[num_elements//2]\n",
    "    \n",
    "print(compute_median(stock_prices))\n",
    "\n",
    "def compute_standard_deviation(values, sample=True):\n",
    "    mean = compute_mean(values)\n",
    "    total = 0\n",
    "    for price in values:\n",
    "        total = total + abs(price-mean)**2\n",
    "    if sample:\n",
    "        return (total / (len(values)-1))**.5\n",
    "    else:\n",
    "        return (total / len(values))**.5\n",
    "\n",
    "    \n",
    "print(compute_mean(stock_prices))\n",
    "print(compute_mean_loop(stock_prices))\n",
    "print(compute_median(stock_prices))\n",
    "print(compute_standard_deviation(stock_prices))\n",
    "print(compute_standard_deviation(stock_prices,sample=False))"
   ]
  },
  {
   "cell_type": "markdown",
   "id": "25bbbd9a",
   "metadata": {},
   "source": [
    "3. Generate a range that produces the following number 10,12,14,16,18, and 20."
   ]
  },
  {
   "cell_type": "code",
   "execution_count": null,
   "id": "6054d37e",
   "metadata": {},
   "outputs": [],
   "source": [
    "range(10,21,2)"
   ]
  },
  {
   "cell_type": "markdown",
   "id": "6e5d6e92",
   "metadata": {},
   "source": [
    "4. Create a guessing game.  Generate a random number between 1 and 100.  Have the user guess.  Print a message if the guess is too high, too low, or correct.  Repeat the user guessing until the correct answer is guessed.  Print the number of guesses.  You can use the following code to create the random number:<br>\n",
    "```\n",
    "import random\n",
    "number = random.randint(1, 100)\n",
    "```"
   ]
  },
  {
   "cell_type": "code",
   "execution_count": null,
   "id": "8a22b70e",
   "metadata": {},
   "outputs": [],
   "source": [
    "import random\n",
    "\n",
    "number = random.randint(1, 100)\n",
    "num_guesses = 0\n",
    "print(\"I've generated a random number between 1 and 100.  Try to guess it!\")\n",
    "while True:\n",
    "    num_guesses = num_guesses + 1\n",
    "    guess = int(input(\"Enter your guess: \"))\n",
    "    if guess == number:\n",
    "        break\n",
    "    elif guess < number:\n",
    "        print(\"That number was too low\")\n",
    "    else:\n",
    "        print(\"That number was to high\")\n",
    "print(\"Congratulations.  You used this many guesses: \",num_guesses)"
   ]
  },
  {
   "cell_type": "markdown",
   "id": "167a00c1",
   "metadata": {},
   "source": [
    "5. Produce a compound interest chart for for 10 years using 1 to 15%.  The x-axis should be the interest with the y-axis being the years.  The numbers should be right justified.  Assume $100.00 is the initial principle."
   ]
  },
  {
   "cell_type": "code",
   "execution_count": null,
   "id": "9aee1be5",
   "metadata": {},
   "outputs": [],
   "source": [
    "def compute_compound_interest(principle, rate, years):\n",
    "    n = 12\n",
    "    result = principle * (1 + rate/n)**(n*years)\n",
    "    return result\n",
    "\n",
    "principle=100\n",
    "num_years = 10\n",
    "start_interest_rate = 1\n",
    "end_interest_rate = 15\n",
    "\n",
    "print(\"Interest Rate\".center(end_interest_rate*7 +7,' '))\n",
    "print(\"Years  \",end='')\n",
    "for interest in range(start_interest_rate,end_interest_rate+1):\n",
    "    print(\"%7d\"%interest,end='')\n",
    "print()  # ends the header\n",
    "\n",
    "for year in range(1,num_years+1):\n",
    "    print(\"   %2d  \" %year,end='')\n",
    "    for interest in range(1,end_interest_rate+1):\n",
    "        amount = compute_compound_interest(principle, interest/100, year)\n",
    "        print(\"%7.2f\"%amount,end='')\n",
    "    print()    "
   ]
  },
  {
   "cell_type": "markdown",
   "id": "4bae5efa",
   "metadata": {},
   "source": [
    "6. Read two strings from the user.  The first string is a text block.  The second string is a character, series of characters, or word to find within each word of the text block.  You should split the first string by whitespace and then keep only those words that contain the second string.  Join the remaining words together into a string, separated by a comma."
   ]
  },
  {
   "cell_type": "code",
   "execution_count": null,
   "id": "2667b482",
   "metadata": {},
   "outputs": [],
   "source": [
    "sentence = input(\"Enter a sentence: \")\n",
    "search_string = input(\"Enter the search string to find: \")\n",
    "\n",
    "words = sentence.split();\n",
    "result = []\n",
    "for word in words:\n",
    "    if word.find(search_string) > 0:\n",
    "        result.append(word)\n",
    "final_result = \",\".join(result)\n",
    "print(final_result)"
   ]
  },
  {
   "cell_type": "markdown",
   "id": "a97bc1b3",
   "metadata": {},
   "source": [
    "7. Given the following lists, generated random sentences by combining random words from each list in this order: _article noun verb preposition artice noun_.<br>\n",
    "```\n",
    "article = [\"the\", \"a\", \"one\", \"some\", \"any\"]\n",
    "noun = [\"boy\", \"girl\", \"dog\", \"town\", \"car\"]\n",
    "verb = [\"drove\", \"jumped\", \"ran\", \"walked\", \"skipped\"]\n",
    "preposition = [\"to\", \"from\", \"over\", \"under\", \"on\"]\n",
    "```\n",
    "The first word of the sentence should be capitalized and the sentence should end with a period. You can get a random element from a list with the following code: (the import statement only needs to occur once)<br>\n",
    "```\n",
    "import random\n",
    "random.choice(noun)\n",
    "```\n",
    "How would you repeat this 5 times?"
   ]
  },
  {
   "cell_type": "code",
   "execution_count": 3,
   "id": "30830e6d",
   "metadata": {},
   "outputs": [
    {
     "name": "stdout",
     "output_type": "stream",
     "text": [
      "Any car skipped over one girl.\n",
      "A car drove to the girl.\n",
      "A town ran on one town.\n",
      "Some boy ran on a town.\n",
      "One dog jumped under the boy.\n"
     ]
    }
   ],
   "source": [
    "import random\n",
    "\n",
    "noun = [\"boy\", \"girl\", \"dog\", \"town\", \"car\"]\n",
    "verb = [\"drove\", \"jumped\", \"ran\", \"walked\", \"skipped\"]\n",
    "article = [\"the\", \"a\", \"one\", \"some\", \"any\"]\n",
    "preposition = [\"to\", \"from\", \"over\", \"under\", \"on\"]\n",
    "\n",
    "for i in range(5):\n",
    "    sentence = random.choice(article).capitalize() + \" \" + random.choice(noun) + \" \" + random.choice(verb) + \" \" +  \\\n",
    "               random.choice(preposition) + \" \" + random.choice(article) + \" \" + random.choice(noun) + \".\"\n",
    "    print(sentence)"
   ]
  },
  {
   "cell_type": "markdown",
   "id": "13724d62",
   "metadata": {},
   "source": [
    "8. Write a function that converts an integer to a string with a specific base.  Assume the base <= 36<br>\n",
    "   `def convert_int_to_base(i, base=10):`"
   ]
  },
  {
   "cell_type": "code",
   "execution_count": 36,
   "id": "04f4aeee",
   "metadata": {},
   "outputs": [],
   "source": [
    "# recursive solution that we haven't covered yet\n",
    "def convert_int_to_base(i,base=16):\n",
    "    characters = \"0123456789abcdefghijklmnopqrstuvwxyz\"\n",
    "    result = \"\";\n",
    "    if i < base:\n",
    "        return characters[i]\n",
    "    else:\n",
    "        return convert_int_to_base(i//base,base) + characters[i%base]"
   ]
  },
  {
   "cell_type": "code",
   "execution_count": 42,
   "id": "a1f509c7",
   "metadata": {},
   "outputs": [],
   "source": [
    "def convert_int_to_base(i,base=16):\n",
    "    characters = \"0123456789abcdefghijklmnopqrstuvwxyz\"\n",
    "    result = \"\";\n",
    "    while i > base:\n",
    "        i,r = divmod(i,base)\n",
    "        result = characters[r] + result\n",
    "    return  characters[i] +result   "
   ]
  },
  {
   "cell_type": "code",
   "execution_count": 43,
   "id": "1e4a9a69",
   "metadata": {},
   "outputs": [
    {
     "data": {
      "text/plain": [
       "'be'"
      ]
     },
     "execution_count": 43,
     "metadata": {},
     "output_type": "execute_result"
    }
   ],
   "source": [
    "convert_int_to_base(190,16)"
   ]
  },
  {
   "cell_type": "code",
   "execution_count": null,
   "id": "3692740b",
   "metadata": {},
   "outputs": [],
   "source": []
  }
 ],
 "metadata": {
  "kernelspec": {
   "display_name": "Python 3 (ipykernel)",
   "language": "python",
   "name": "python3"
  },
  "language_info": {
   "codemirror_mode": {
    "name": "ipython",
    "version": 3
   },
   "file_extension": ".py",
   "mimetype": "text/x-python",
   "name": "python",
   "nbconvert_exporter": "python",
   "pygments_lexer": "ipython3",
   "version": "3.10.4"
  }
 },
 "nbformat": 4,
 "nbformat_minor": 5
}
