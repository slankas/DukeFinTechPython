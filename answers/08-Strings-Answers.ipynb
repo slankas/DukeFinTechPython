{
 "cells": [
  {
   "cell_type": "markdown",
   "id": "9274dd26",
   "metadata": {},
   "source": [
    "# Strings"
   ]
  },
  {
   "cell_type": "markdown",
   "id": "4dff3de9",
   "metadata": {},
   "source": [
    "## Exercises\n",
    "\n",
    "1. How would you get more information about the `ord()` built-in function?\n",
    "2. How would you get more information about the `center()` method that belongs to the `str` class\n",
    "3. Create a string literal for the value after the colon and assign it to the variable `test`: Let's go run now!\n",
    "4. Create a multiline string literal for one of the verses of [Row, Row, Row Your Boat](https://en.wikipedia.org/wiki/Row,_Row,_Row_Your_Boat)\n",
    "5. For these questions, create a variable called `excited` that has the following string repeated 10 times: \"I'm so excited!\\n\".  For this, we can use string  duplication: `excited = \"I'm so excited!\\n\" * 10`\n",
    "   1. How long is the string in the variable `excited`? Use a function to get the answer\n",
    "   2. Using code, what is the first letter of `excited`?  The last letter? \n",
    "   3. Get a string (a substring) from `excited` with the last 9 characters.\n",
    "   4. Get a substring from `excited` starting at the first position(0), but skip every 17th character. What is unusual about this result?\n",
    "6. Split the following string by dashes:<br>```a = \"20220502-https://python.org-200-127.0.0.1\"```\n",
    "7. You have just arrived at a dystopian society that does not believe in vowels.  Write a function to remove any vowels from a string and return a result.  For some reason, they don't mind y's.\n",
    "8. Given the following string, extract the portion after the colon and convert it to an integer variable.\n",
    "```\n",
    "line = 'Conference Attendance:14000'\n",
    "```\n",
    "Use `find()` and string slicing to extract the string.<br>\n",
    "9. Repeat the previous question, but use `split()`.\n",
    "\n",
    "If you'd like more practice, look at some of the functions not covered in the exercises.  Try comparing different strings."
   ]
  },
  {
   "cell_type": "code",
   "execution_count": null,
   "id": "601cb221",
   "metadata": {},
   "outputs": [],
   "source": [
    "#1\n",
    "help(ord)\n",
    "#2\n",
    "help(str.center)\n",
    "#3\n",
    "test = \"Let's go run now!\"\n",
    "#4 \n",
    "\"\"\"\n",
    "Row, row, row your boat,\n",
    "Gently down the stream.\n",
    "If you see a crocodile,\n",
    "Don't forget to scream.\n",
    "\"\"\"\n",
    "#5\n",
    "excited = \"I'm so excited!\\n\" * 10\n",
    "#5-A\n",
    "print(\"length: \",len(excited))   #160 characters\n",
    "#5-B   Prints are only present to display the value.  more concerned about the splitting\n",
    "# The last chracter is a newline\n",
    "print(\"first: \", excited[0])\n",
    "print(\"last: \", excited[-1])\n",
    "print(\"last: \", excited[len(excited)-1])\n",
    "#5-C\n",
    "print(excited[-9:])\n",
    "#5-D\n",
    "print(excited[::17])\n",
    "# 17 is just 1 greater that the length of the original string.  You can relate this back to a 12 hour clock and imagine adding 13\n",
    "\n",
    "#6 \n",
    "a = \"20220502-https://python.org-200-127.0.0.1\"\n",
    "print(a.split('-'))\n",
    "\n",
    "#7\n",
    "def remove_vowels(sentence):\n",
    "    return sentence.replace('a','').replace('e','').replace('i','').replace('o','').replace('u','')\n",
    "\n"
   ]
  },
  {
   "cell_type": "code",
   "execution_count": null,
   "id": "a086d48a",
   "metadata": {},
   "outputs": [],
   "source": [
    "#8\n",
    "line = 'Conference Attendance:14000'\n",
    "index = line.find(\":\")\n",
    "value = int(line[index+1:])\n",
    "print(value)"
   ]
  },
  {
   "cell_type": "code",
   "execution_count": null,
   "id": "6c1ebdb0",
   "metadata": {},
   "outputs": [],
   "source": [
    "#9\n",
    "line = 'Conference Attendance:14000'\n",
    "parts = line.split(\":\")\n",
    "value = int(parts[1])\n",
    "print(value)"
   ]
  }
 ],
 "metadata": {
  "kernelspec": {
   "display_name": "Python 3 (ipykernel)",
   "language": "python",
   "name": "python3"
  },
  "language_info": {
   "codemirror_mode": {
    "name": "ipython",
    "version": 3
   },
   "file_extension": ".py",
   "mimetype": "text/x-python",
   "name": "python",
   "nbconvert_exporter": "python",
   "pygments_lexer": "ipython3",
   "version": "3.10.4"
  }
 },
 "nbformat": 4,
 "nbformat_minor": 5
}
