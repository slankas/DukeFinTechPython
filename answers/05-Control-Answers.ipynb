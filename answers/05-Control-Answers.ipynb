{
 "cells": [
  {
   "cell_type": "markdown",
   "id": "21525bf3",
   "metadata": {},
   "source": [
    "# Control\n",
    "\n",
    "Exercise 1: Paycheck  (AUTOGRADER)\n",
    "\n",
    "Write a program that computes the a simple weekly paycheck for an individual.\n",
    "The user should be prompted for the number of hours worked, and the payrate.\n",
    "If the user works over 40 hours, the hours over 40 hours should be paid at 1.5 times the hourly rate.\n",
    "Print the initial total.  Of course, the government taxes employee's pay.  Asusme this tax rate is 20%.  Print the amount withheld for taxes.  Then print the net amount to be paid to the individual."
   ]
  },
  {
   "cell_type": "markdown",
   "id": "59be42c6-8347-4f25-9b3d-1265b3553286",
   "metadata": {},
   "source": [
    "_Class assignment, answer not provided_"
   ]
  },
  {
   "cell_type": "markdown",
   "id": "c53ac97a",
   "metadata": {},
   "source": [
    "Exercise 2: Stock Gain (or loss)\n",
    "\n",
    "Write a program that allows the user two successive closing prices for a stock.  Compute the the daily percentage gain or loss. If the gain was positive, print the message \"The stock price increased by\" and the percentage increase.\n",
    "If the gain was negative, print the message \"The stock price decreased by and the percentage decrease.\n",
    "Otherwise, print \"No change to the stock price.\""
   ]
  },
  {
   "cell_type": "code",
   "execution_count": null,
   "id": "b1f45ca1",
   "metadata": {},
   "outputs": [],
   "source": [
    "day_one_price = float(input(\"Enter the stock price at the close of the first day: \"))\n",
    "day_two_price = float(input(\"Enter the stock price at the close of the second day: \"))\n",
    "change = (day_two_price - day_one_price) /day_one_price *100\n",
    "if change > 0:\n",
    "    print(\"The stock price increased by\", change)\n",
    "elif change < 0:\n",
    "    print(\"The stock price decreased by\", change)\n",
    "else:\n",
    "    print(\"No change to the stock price.\")\n"
   ]
  },
  {
   "cell_type": "markdown",
   "id": "eedac9cf",
   "metadata": {},
   "source": [
    "Exercise 3: Failed short-circuit evaluation?\n",
    "\n",
    "In the following code block, why does it appear the short-circuit evaluation is not being followed? Is the final result correct?"
   ]
  },
  {
   "cell_type": "code",
   "execution_count": null,
   "id": "750108b6",
   "metadata": {},
   "outputs": [],
   "source": [
    "def test(num, result):\n",
    "    print ('Expression', num, result)\n",
    "    return result\n",
    "\n",
    "\n",
    "print (test(1,\"False\") and test(2,\"True\"))"
   ]
  },
  {
   "cell_type": "markdown",
   "id": "d70baff1",
   "metadata": {},
   "source": [
    "Rather than using the literal `True` and `False` values, the code snippet using strings.  Any non-empty string evaluates to True."
   ]
  },
  {
   "cell_type": "code",
   "execution_count": null,
   "id": "fb4bd4cf",
   "metadata": {},
   "outputs": [],
   "source": []
  }
 ],
 "metadata": {
  "kernelspec": {
   "display_name": "Python 3 (ipykernel)",
   "language": "python",
   "name": "python3"
  },
  "language_info": {
   "codemirror_mode": {
    "name": "ipython",
    "version": 3
   },
   "file_extension": ".py",
   "mimetype": "text/x-python",
   "name": "python",
   "nbconvert_exporter": "python",
   "pygments_lexer": "ipython3",
   "version": "3.10.4"
  }
 },
 "nbformat": 4,
 "nbformat_minor": 5
}
