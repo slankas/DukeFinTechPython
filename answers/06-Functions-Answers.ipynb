{
 "cells": [
  {
   "cell_type": "markdown",
   "id": "283daca7",
   "metadata": {},
   "source": [
    "# Functions\n",
    "\n",
    "1. Using the formula for compound interest, write a function to compute the result.  The function should take three parameters: the initial principal, interest rate, and number of years.  Assume the interest is compounded monthly."
   ]
  },
  {
   "cell_type": "code",
   "execution_count": 1,
   "id": "d7e6d35b",
   "metadata": {},
   "outputs": [
    {
     "name": "stdout",
     "output_type": "stream",
     "text": [
      "105.1161897881733\n"
     ]
    }
   ],
   "source": [
    "def compute_compound_interest(principle, rate, years):\n",
    "    n = 12\n",
    "    result = principle * (1 + rate/n)**(n*years)\n",
    "    return result\n",
    "\n",
    "print(compute_compound_interest(100,.05,1))    "
   ]
  },
  {
   "cell_type": "markdown",
   "id": "5fc60c2b",
   "metadata": {},
   "source": [
    "2. Repeat exercise 1, but add an optional parameter that determins is interest is compound monthly or yearly.  You may use a Boolean flag or a string.\n"
   ]
  },
  {
   "cell_type": "code",
   "execution_count": 2,
   "id": "b700ee82",
   "metadata": {},
   "outputs": [
    {
     "name": "stdout",
     "output_type": "stream",
     "text": [
      "105.0\n"
     ]
    }
   ],
   "source": [
    "def compute_compound_interest(principle, rate, years, num_periods=12):\n",
    "    result = principle * (1 + rate/num_periods)**(num_periods*years)\n",
    "    return result\n",
    "\n",
    "print(compute_compound_interest(100,.05,1,False))   "
   ]
  },
  {
   "cell_type": "markdown",
   "id": "6a63a86e",
   "metadata": {},
   "source": [
    "3. Write a program to determine the monthly payment for a 30 year mortgage for an initial principal amount and interest rate that the user specifies.\n",
    "\n",
    "$ A = P \\times \\dfrac{r(1+r)^n}{(1+r)^n - 1} $  \n",
    "\n",
    "- $A$ is the periodic amortization payment\n",
    "- $P$ is the principal amount borrowed\n",
    "- $r$ is the rate of interest expressed as a fraction; for a monthly payment, take the (Annual Rate)/12\n",
    "- $n$ is the number of payments; for monthly payments over 30 years, 12 months x 30 years = 360 payments.\n",
    "\n",
    "[Formula](https://en.wikipedia.org/wiki/Mortgage_loan#Principal_and_interest)"
   ]
  },
  {
   "cell_type": "code",
   "execution_count": 3,
   "id": "a2725f9d",
   "metadata": {},
   "outputs": [
    {
     "name": "stdout",
     "output_type": "stream",
     "text": [
      "805.2324345182096\n"
     ]
    }
   ],
   "source": [
    "def compute_monthly_payment(principle, rate, years):\n",
    "    rate = rate / 12\n",
    "    number_of_payments = years * 12\n",
    "    result = principle * rate*(1+rate)**number_of_payments / ( (1+rate)**number_of_payments  -1)\n",
    "    return result\n",
    "\n",
    "print(compute_monthly_payment(150000,.05,30))"
   ]
  },
  {
   "cell_type": "markdown",
   "id": "b17f677d",
   "metadata": {},
   "source": [
    "4. While the standard unit of measurement for mass is the kilogram, many different units exists for measuring mass (and weight).  Create a function called convert_mass that has three parameters: _value_ - the number for the current mass, _current_ - the unit currently used for the mass, _target_ the unit to convert the mass into.  The function should return the number for the current mass expressed in the _target_ unit.  Use the following conversion tables for the possible _current_ and _target_ units. \n",
    "\n",
    "Unit Name | Kilograms\n",
    ":---------| --------:\n",
    "Kilogram  |      1.0\n",
    "Pound     | 0.453592\n",
    "Stone     | 6.35029\n",
    "Jin       | 0.5\n",
    "Seer      | 1.25\n",
    "Gram      | 0.001\n",
    "Oka       | 1.2829\n",
    "\n",
    "    ```convert_mass(10,\"Jin\",\"Pound\")``` returns approximately 11.023 "
   ]
  },
  {
   "cell_type": "markdown",
   "id": "6eff4902-542f-4296-adf6-628d5a0bf4c9",
   "metadata": {},
   "source": [
    "_Class assignment, answer not provided_"
   ]
  }
 ],
 "metadata": {
  "kernelspec": {
   "display_name": "Python 3 (ipykernel)",
   "language": "python",
   "name": "python3"
  },
  "language_info": {
   "codemirror_mode": {
    "name": "ipython",
    "version": 3
   },
   "file_extension": ".py",
   "mimetype": "text/x-python",
   "name": "python",
   "nbconvert_exporter": "python",
   "pygments_lexer": "ipython3",
   "version": "3.10.4"
  }
 },
 "nbformat": 4,
 "nbformat_minor": 5
}
