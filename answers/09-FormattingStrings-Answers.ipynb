{
 "cells": [
  {
   "cell_type": "markdown",
   "id": "511526ad",
   "metadata": {},
   "source": [
    "# Formatting Strings\n",
    "\n",
    "1. Develop your own business format letter with the following specifications:\n",
    "   - It should be in a function `produce_letter` that takes any arguments needed to produce your letter\n",
    "   - The function should return a formatted string\n",
    "   - The string should be a multi-line string. \n",
    "   - You should perform at least 5 formatting substitutions \n",
    "\n"
   ]
  },
  {
   "cell_type": "code",
   "execution_count": 3,
   "id": "b11ded38",
   "metadata": {},
   "outputs": [
    {
     "name": "stdout",
     "output_type": "stream",
     "text": [
      "\n",
      "    Dear Dr. Smith,\n",
      "\n",
      "    Thank you for your letter. We are sorry that our squeeze ball\n",
      "    exploded in your kitchen. Please note that it should never\n",
      "    be used in a kitchen, especially near any dogs.\n",
      "\n",
      "    Send us your receipt and $9.95 for shipping and handling.\n",
      "    We will send you another squeeze ball that, in our tests,\n",
      "    is 25% less likely to have exploded.\n",
      "\n",
      "    Thank you for your support.\n",
      "\n",
      "    Sincerely,\n",
      "    Jeff Ringer\n",
      "    Chief Product Tester\n",
      "    \n"
     ]
    }
   ],
   "source": [
    "def produce_letter(salutation, name, product,verbed, room, animals, amount, percent, spokesman,job_title):\n",
    "    letter = \"\"\"\n",
    "    Dear {} {},\n",
    "\n",
    "    Thank you for your letter. We are sorry that our {}\n",
    "    {} in your {}. Please note that it should never\n",
    "    be used in a {}, especially near any {}.\n",
    "\n",
    "    Send us your receipt and {} for shipping and handling.\n",
    "    We will send you another {} that, in our tests,\n",
    "    is {}% less likely to have {}.\n",
    "\n",
    "    Thank you for your support.\n",
    "\n",
    "    Sincerely,\n",
    "    {}\n",
    "    {}\n",
    "    \"\"\".format(salutation,name,product,verbed,room, room, animals, amount,product,percent,verbed,spokesman,job_title)\n",
    "    return letter;\n",
    "\n",
    "x = produce_letter(\"Dr.\",\"Smith\",\"squeeze ball\",\"exploded\",\"kitchen\",\"dogs\",\"$9.95\",\"25\",\n",
    "                   \"Jeff Ringer\",\"Chief Product Tester\")\n",
    "print(x)"
   ]
  },
  {
   "cell_type": "markdown",
   "id": "8d381708",
   "metadata": {},
   "source": [
    "2. Write a script that accepts a float value and then prints out the number in the format of $\\*\\*\\*XX.XX where the leading asterisks are used to make the length of the output 10 characters and the precision is two digits.  Prefixing numbers with asterisks is a common control to prevent people from altering amounts on checks.\n"
   ]
  },
  {
   "cell_type": "code",
   "execution_count": 4,
   "id": "05f8ccd6",
   "metadata": {},
   "outputs": [
    {
     "name": "stdout",
     "output_type": "stream",
     "text": [
      "$****212.65\n"
     ]
    }
   ],
   "source": [
    "amount = 212.6532\n",
    "print(\"${:*>10.2f}\".format(amount))"
   ]
  },
  {
   "cell_type": "markdown",
   "id": "62a2a178-cac0-4c28-b559-4f1066b45694",
   "metadata": {},
   "source": [
    "3. Write a function with the following declaration - <code>def print_receipt(subtotal, tax_rate, tip_rate)</code><br>That prints the following:\n",
    "```\n",
    "    Subtotal: $     10.00\n",
    "         Tax: $      0.50\n",
    "         Tip: $      2.00\n",
    "               ==========\n",
    "       Total: $     12.50\n",
    "```\n",
    "with the call: `print_receipt(10.00, .05, .2)`\n",
    "<br>\n",
    "You should use formatting for all of the numbers and equal signs."
   ]
  },
  {
   "cell_type": "markdown",
   "id": "37875abf-cc34-4c4f-b59e-24569ad1df49",
   "metadata": {},
   "source": [
    "_Class assignment, answer not provided_"
   ]
  }
 ],
 "metadata": {
  "kernelspec": {
   "display_name": "Python 3 (ipykernel)",
   "language": "python",
   "name": "python3"
  },
  "language_info": {
   "codemirror_mode": {
    "name": "ipython",
    "version": 3
   },
   "file_extension": ".py",
   "mimetype": "text/x-python",
   "name": "python",
   "nbconvert_exporter": "python",
   "pygments_lexer": "ipython3",
   "version": "3.10.4"
  }
 },
 "nbformat": 4,
 "nbformat_minor": 5
}
