{
 "cells": [
  {
   "cell_type": "markdown",
   "id": "0a3fb322",
   "metadata": {},
   "source": [
    "# Random Numbers\n",
    "1. Write a function that simulates rolling an x-sided die.   `def roll_die(num_sides=6)`  "
   ]
  },
  {
   "cell_type": "code",
   "execution_count": null,
   "id": "c5c6d565",
   "metadata": {},
   "outputs": [],
   "source": [
    "import random\n",
    "\n",
    "def roll_die(num_sides=6):\n",
    "    return random.randint(1,num_sides)\n",
    "\n",
    "\n",
    "for x in range(0,10): print(roll_die(4))"
   ]
  },
  {
   "cell_type": "markdown",
   "id": "e5c106a2",
   "metadata": {},
   "source": [
    "2. Write a function named twenty that returns a random integer between 1 and 20."
   ]
  },
  {
   "cell_type": "code",
   "execution_count": null,
   "id": "76b270af",
   "metadata": {},
   "outputs": [],
   "source": [
    "def twenty():\n",
    "    return random.randint(1,20)"
   ]
  },
  {
   "cell_type": "markdown",
   "id": "4b1265c0",
   "metadata": {},
   "source": [
    "3. Write a program that let's the user play [Rock, Paper, Scissors](https://en.wikipedia.org/wiki/Rock_paper_scissors) against the computer.\n",
    "The user should be able enter the values of \"rock\", \"paper\", or \"scissors\". The computers choice should be randomly selected from that list. The output should follow this logic:\n",
    "   - If both selected the same item: \"It's a tie: both selected _itemName_.\"\n",
    "   - If one chooses rock, and the other scissors: \"Rock smashes scissors!\"\n",
    "   - If one chooses scissors, and the other paper: \"Scissors cuts paper!\"\n",
    "   - If one chooses paper, and the other rock: \"Paper covers rock!\"\n",
    "   - if the player wins, print \"You win!\"\n",
    "   - if the player loses, print \"You lose.\""
   ]
  },
  {
   "cell_type": "code",
   "execution_count": null,
   "id": "f929ac30",
   "metadata": {},
   "outputs": [],
   "source": [
    "def play_game(human_guess):\n",
    "    choices = [\"rock\",\"paper\",\"scissors\"]\n",
    "    computer_choice = random.choice(choices)\n",
    "    \n",
    "    if computer_choice == human_guess:\n",
    "        return \"It's a tie: both selected {}.\".format(human_guess)\n",
    "    elif computer_choice == \"rock\" and human_guess == \"scissors\":\n",
    "        return \"Rock smashes scissors!\\nYou lose\"\n",
    "    elif computer_choice == \"rock\" and human_guess == \"paper\":\n",
    "        return \"Paper covers rock!\\nYou win!\"\n",
    "    elif computer_choice == \"paper\" and human_guess == \"scissors\":\n",
    "        return \"Scissors cuts paper!\\nYou win!\"\n",
    "    elif computer_choice == \"paper\" and human_guess == \"rock\":\n",
    "        return \"Paper covers rock.\\nYou lose.\"\n",
    "    elif computer_choice == \"scissors\" and human_guess == \"paper\":\n",
    "        return \"Scissors cuts paper.\\nYou lose.\"\n",
    "    elif computer_choice == \"scissors\" and human_guess == \"rock\":\n",
    "        return \"Rock smashes scissors.\\nYou win!\""
   ]
  },
  {
   "cell_type": "code",
   "execution_count": null,
   "id": "d62cf0a3",
   "metadata": {},
   "outputs": [],
   "source": [
    "play_game(\"rock\")"
   ]
  },
  {
   "cell_type": "code",
   "execution_count": null,
   "id": "be997155",
   "metadata": {},
   "outputs": [],
   "source": []
  }
 ],
 "metadata": {
  "kernelspec": {
   "display_name": "Python 3 (ipykernel)",
   "language": "python",
   "name": "python3"
  },
  "language_info": {
   "codemirror_mode": {
    "name": "ipython",
    "version": 3
   },
   "file_extension": ".py",
   "mimetype": "text/x-python",
   "name": "python",
   "nbconvert_exporter": "python",
   "pygments_lexer": "ipython3",
   "version": "3.10.4"
  }
 },
 "nbformat": 4,
 "nbformat_minor": 5
}
