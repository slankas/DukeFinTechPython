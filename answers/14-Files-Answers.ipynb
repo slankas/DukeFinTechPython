{
 "cells": [
  {
   "cell_type": "markdown",
   "id": "95ad8e26",
   "metadata": {},
   "source": [
    "## Exercises \n",
    "1. Write a method with two parameters: filename and countdown.  Countdown is a positive integer.  Using a range function, write a file that looks like 10 9 8 7 6 5 4 3 2 1---BlastOff"
   ]
  },
  {
   "cell_type": "code",
   "execution_count": null,
   "id": "a6104f8b",
   "metadata": {},
   "outputs": [],
   "source": [
    "def createFile(filename, countdown):\n",
    "    with open(filename, \"wt\") as f:\n",
    "        for i in range(countdown,0,-1):\n",
    "            if i != countdown: \n",
    "                f.write(' ')\n",
    "            f.write(str(i))\n",
    "        f.write('---Blastoff')\n",
    "        \n",
    "createFile(\"blastText.txt\",15)"
   ]
  },
  {
   "cell_type": "markdown",
   "id": "39b766fc",
   "metadata": {},
   "source": [
    "2. Write a method with one parameter - filename. The function reads a file produced by the function in the previous exercise.  it will read all of the numbers and produce their sum, printing the result to the console."
   ]
  },
  {
   "cell_type": "code",
   "execution_count": null,
   "id": "478aa693",
   "metadata": {},
   "outputs": [],
   "source": [
    "def readFile(filename):\n",
    "    with open(filename) as f:\n",
    "        line = f.readline()\n",
    "        parts = line.split(\" \")\n",
    "        sum = 0\n",
    "        for item in parts:\n",
    "            if item.find(\"-\") != -1:\n",
    "                item = item[0:1]\n",
    "            sum = sum + int(item)\n",
    "        print(sum)\n",
    "        \n",
    "readFile(\"blastText.txt\")"
   ]
  },
  {
   "cell_type": "code",
   "execution_count": null,
   "id": "93691a3b",
   "metadata": {},
   "outputs": [],
   "source": []
  }
 ],
 "metadata": {
  "kernelspec": {
   "display_name": "Python 3 (ipykernel)",
   "language": "python",
   "name": "python3"
  },
  "language_info": {
   "codemirror_mode": {
    "name": "ipython",
    "version": 3
   },
   "file_extension": ".py",
   "mimetype": "text/x-python",
   "name": "python",
   "nbconvert_exporter": "python",
   "pygments_lexer": "ipython3",
   "version": "3.10.4"
  }
 },
 "nbformat": 4,
 "nbformat_minor": 5
}
