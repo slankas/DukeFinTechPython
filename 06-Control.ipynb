{
 "cells": [
  {
   "cell_type": "markdown",
   "id": "83a93765",
   "metadata": {},
   "source": [
    "<div class=\"pagebreak\"></div>\n",
    "\n",
    "# Control Statements\n",
    "So far, we have seen some basic programs and uses of data, but we have not had to make any decisions to decide what code to execute or to repeat the execution of certain lines of code. Control statements allow us to alter a program's behavior based on different conditions within the data.\n",
    "\n",
    "In our daily lives, we run across countless situations where we choose different behavior based on some condition:\n",
    "- What to wear based on the weather\n",
    "- When to wake up and go to sleep - based upon the time of day\n",
    "- Converting values into different types - for a given numeric grade, produce the equivalent letter grade\n",
    "- Restrictions on who can drive or drink. (and it better not be both at the same time!)\n",
    "\n",
    "In this notebook, we will see how to use an `if` statement to execute different code blocks based upon a conditional expression that evaluates to a Boolean (`True` or `False`)."
   ]
  },
  {
   "cell_type": "markdown",
   "id": "663d7b2e",
   "metadata": {},
   "source": [
    "## if statement\n",
    "We use the `if` statement to execute a code block when a specified condition is `True`.  The basic syntax:\n",
    "<pre>\n",
    "if condition:\n",
    "    <i>block</i>\n",
    "</pre>\n",
    "If the condition evaluates to `True`, then the statement(s) in the block are executed.  \n",
    "\n",
    "Below, we present a [flowchart](https://en.wikipedia.org/wiki/Flowchart) to represent the execution of an `if` statement.  Flowcharts can help you visualize and understand a process. We use flowcharts to show the overview of different Python statements.  Initially, you may want to draw flowcharts to help you understand a problem or a program, but flowcharts are too cumbersome to use in practice.\n",
    "- Ovals or rounded rectangles indicate the beginning or end of a program. *terminal*\n",
    "- Rectangles represent one or more operations that occur in sequence. *process*\n",
    "- Diamonds represent a conditional operation to choose which path a program or process will follow. *decision*\n",
    "- Arrows represent the program's (process's) order of operation.  Labels may indicate decision paths.  *flowline*\n",
    "- Parallelograms (not shown) represent data input and output.\n",
    "\n",
    "You can augment these diagrams with whatever notes, variable assignments, etc., to help document a given process."
   ]
  },
  {
   "cell_type": "markdown",
   "id": "0eaeee34",
   "metadata": {},
   "source": [
    "![](images/ifStatement.png)"
   ]
  },
  {
   "cell_type": "code",
   "execution_count": null,
   "id": "823ec3f6",
   "metadata": {},
   "outputs": [],
   "source": [
    "age = input(\"What is your age?\")\n",
    "if int(age) >= 16:\n",
    "    print(\"You are old enough to drive in most US states.\")"
   ]
  },
  {
   "cell_type": "markdown",
   "id": "1092393d",
   "metadata": {},
   "source": [
    "In the above example, `int(age) >= 16` is the conditional expression.  With Python, this is any expression that evaluates to  `True` or `False`.  Recall that any nonzero numeric value is `True`, and zero is `False`. For strings, any non-empty string is `True`, and an empty string is `False`.  Of course, we can use Boolean variables as well."
   ]
  },
  {
   "cell_type": "code",
   "execution_count": null,
   "id": "c1a1d608",
   "metadata": {},
   "outputs": [],
   "source": [
    "team_won = True\n",
    "if team_won:\n",
    "    print (\"Let's celebrate!\")"
   ]
  },
  {
   "cell_type": "code",
   "execution_count": null,
   "id": "afc9bb33",
   "metadata": {},
   "outputs": [],
   "source": [
    "if 0:\n",
    "    print(\"nothing to see here - zero evaluates to false\")"
   ]
  },
  {
   "cell_type": "code",
   "execution_count": null,
   "id": "91917643",
   "metadata": {},
   "outputs": [],
   "source": [
    "if -1:\n",
    "    print(\"Hey - I'm here\")"
   ]
  },
  {
   "cell_type": "code",
   "execution_count": null,
   "id": "f90d036b",
   "metadata": {},
   "outputs": [],
   "source": [
    "if \"message\":\n",
    "    print(\"Hey - I was true. non-empty strings are true\")"
   ]
  },
  {
   "cell_type": "code",
   "execution_count": null,
   "id": "43868dd1",
   "metadata": {},
   "outputs": [],
   "source": [
    "if \"\":\n",
    "    print(\"Sting empty, evaluates to false,  you can't see me!\")"
   ]
  },
  {
   "cell_type": "markdown",
   "id": "2c480e52",
   "metadata": {},
   "source": [
    "In the above examples, the print statements after the `if` statements form the \"true-block\". These code blocks can be any number of statements, including nested `if` statements."
   ]
  },
  {
   "cell_type": "markdown",
   "id": "4775d0a1",
   "metadata": {},
   "source": [
    "## Comparison Operators\n",
    "Sometimes, using a single value is sufficient for an `if` statement. Python, though, supports several conditional operators:\n",
    "\n",
    "| Comparison<br>Operator | Example | Meaning |\n",
    "| :---: | :---- | :---- |\n",
    "| `>` | `x > y` | `x` is greater than `y`\n",
    "| `<` | `x < y` | `x` is less than `y`\n",
    "| `>=` | `x >= y` | `x` is greater than or equal to `y`\n",
    "| `<=` | `x <= y` | `x` is less than or equal to `y`\n",
    "| `==` | `x == y` | `x` is equal to `y`\n",
    "| `!=` | `x != y` | `x` is not equal to `y`"
   ]
  },
  {
   "cell_type": "code",
   "execution_count": null,
   "id": "3f1bd064",
   "metadata": {},
   "outputs": [],
   "source": [
    "print(\"4 < 5:\", 4 < 5)\n",
    "print(\"10 > 5:\", 10 > 5)\n",
    "print(\"5 <= 6:\", 5 <= 6)\n",
    "print(\"Hello:\", \"hello\" == \"hel\"+\"lo\")  # Use string concatenation to create \"hello\""
   ]
  },
  {
   "cell_type": "markdown",
   "id": "5fc8a9c7",
   "metadata": {},
   "source": [
    "## if else statement\n",
    "In addition to executing the true block, Python allows for an optional `else` block that executes if the condition evaluates to `False`.\n",
    "\n",
    "![](images/ifElseStatement.png)"
   ]
  },
  {
   "cell_type": "code",
   "execution_count": null,
   "id": "1f438e89",
   "metadata": {},
   "outputs": [],
   "source": [
    "age = 15\n",
    "if age >= 16:\n",
    "    print(\"You can drive!\")\n",
    "    print(\"You need a license first, though...\")\n",
    "else:\n",
    "    print(\"You are not old enough to drive.\")\n",
    "    print(\"You will need to wait until you are 16.\")"
   ]
  },
  {
   "cell_type": "markdown",
   "id": "712c0fe4",
   "metadata": {},
   "source": [
    "In Python, indention determines the code blocks that execute for the `if` statement.  The Python convention is to use four spaces.  However, you can use any number of spaces that you like as long as you are consistent with the spacing.  Avoid using tabs or mixing tabs and spaces - this will lead to consistency issues.  \n",
    "\n",
    "As you write programs, make sure the code blocks are correctly indented -"
   ]
  },
  {
   "cell_type": "code",
   "execution_count": null,
   "id": "cc215c0d",
   "metadata": {},
   "outputs": [],
   "source": [
    "age = 17\n",
    "if age >= 16:\n",
    "    print(\"You can drive!\")\n",
    "else:\n",
    "    print(\"You are not old enough to drive.\")\n",
    "print(\"You will need to wait until you are 16.\")  #oops, didn't indent this properly, semantic error"
   ]
  },
  {
   "cell_type": "code",
   "execution_count": null,
   "id": "b785784a",
   "metadata": {},
   "outputs": [],
   "source": [
    "age = 10\n",
    "if age >= 16:\n",
    "    print(\"You can drive!\")\n",
    "else:\n",
    "    print(\"You are not old enough to drive.\")\n",
    "   print(\"You will need to wait until you are 16.\")   #syntax error - indention level not matched"
   ]
  },
  {
   "cell_type": "markdown",
   "id": "8a41a7af",
   "metadata": {},
   "source": [
    "## if elif statement\n",
    "If you have several conditions that you need to evaluate in order, you can use an `if elif` statement. As with the `if` statement, you can have an optional `else` portion at the end of the statement. \n",
    "\n",
    "![](images/ifElifStatement.png)"
   ]
  },
  {
   "cell_type": "code",
   "execution_count": null,
   "id": "a5abb79b",
   "metadata": {},
   "outputs": [],
   "source": [
    "grade = int(input(\"What was your score on the test?\"))\n",
    "if grade >= 90:\n",
    "    print(\"A\")\n",
    "elif grade >= 80:\n",
    "    print(\"B\")\n",
    "elif grade >= 70:\n",
    "    print(\"C\")\n",
    "elif grade >= 60:\n",
    "    print(\"D\")\n",
    "else:\n",
    "    print(\"F\") "
   ]
  },
  {
   "cell_type": "markdown",
   "id": "9b498901",
   "metadata": {},
   "source": [
    "Python evaluates these if clauses in their listed order.\n",
    "\n",
    "What does the following code produce?"
   ]
  },
  {
   "cell_type": "code",
   "execution_count": null,
   "id": "8fa0492a",
   "metadata": {},
   "outputs": [],
   "source": [
    "grade = 90\n",
    "if grade >= 70:\n",
    "    print(\"C\")\n",
    "elif grade >= 80:\n",
    "    print(\"B\")\n",
    "elif grade >= 90:\n",
    "    print(\"A\")\n",
    "elif grade >= 60:\n",
    "    print(\"D\")\n",
    "else:\n",
    "    print(\"F\") "
   ]
  },
  {
   "cell_type": "markdown",
   "id": "44a9fa43",
   "metadata": {},
   "source": [
    "Not including the colon at the end of an expression will cause the Python interpreter to report a \"SyntaxError\"."
   ]
  },
  {
   "cell_type": "code",
   "execution_count": null,
   "id": "934736ed",
   "metadata": {},
   "outputs": [],
   "source": [
    "if True                # missing :    SyntaxError\n",
    "    print(\"Message\")"
   ]
  },
  {
   "cell_type": "markdown",
   "id": "35bef069",
   "metadata": {},
   "source": [
    "## Nested Ifs\n",
    "As code blocks can contain any Python statement, `if` statements can be nested.\n",
    "\n",
    "Run the following code block several times, changing the `salary`, `commute_time_min`, and `free_coffee` values to see how the logic works. You should be able to produce each of the four different outputs."
   ]
  },
  {
   "cell_type": "code",
   "execution_count": null,
   "id": "f4c9d1ae",
   "metadata": {},
   "outputs": [],
   "source": [
    "salary = 60000\n",
    "commute_time_min = 30\n",
    "free_coffee = False\n",
    "if salary > 50000:\n",
    "    if commute_time_min < 60:\n",
    "        if free_coffee:\n",
    "            print(\"Cool.  I'm going to like this job\")\n",
    "        else:\n",
    "            print(\"Close location and I like the salary, but I NEED coffee\")\n",
    "    else:\n",
    "        print(\"I don't want to drive that far\")\n",
    "else:\n",
    "    print(\"I'm worth more than that\")"
   ]
  },
  {
   "cell_type": "markdown",
   "id": "2c726aef",
   "metadata": {},
   "source": [
    "[Step through code on PythonTutor.com](https://pythontutor.com/render.html#code=salary%20%3D%2060000%0Acommute_time_min%20%3D%2030%0Afree_coffee%20%3D%20False%0Aif%20salary%20%3E%2050000%3A%0A%20%20%20%20if%20commute_time_min%20%3C%2060%3A%0A%20%20%20%20%20%20%20%20if%20free_coffee%3A%0A%20%20%20%20%20%20%20%20%20%20%20%20print%28%22Cool.%20%20I'm%20going%20to%20like%20this%20job%22%29%0A%20%20%20%20%20%20%20%20else%3A%0A%20%20%20%20%20%20%20%20%20%20%20%20print%28%22Close%20location%20and%20I%20like%20the%20salary,%20but%20I%20NEED%20coffee%22%29%0A%20%20%20%20else%3A%0A%20%20%20%20%20%20%20%20print%28%22I%20don't%20want%20to%20drive%20that%20far%22%29%0Aelse%3A%0A%20%20%20%20print%28%22I'm%20worth%20more%20than%20that%22%29&cumulative=false&curInstr=0&heapPrimitives=nevernest&mode=display&origin=opt-frontend.js&py=3&rawInputLstJSON=%5B%5D&textReferences=false)\n",
    "\n",
    "While producing each of these outputs may have seemed frustrating, this is an essential aspect of testing - following each of the different paths a program can follow.\n",
    "\n",
    "The following table shows the different possibilities.  Notice that we only listed a couple of different values for `salary` and `commute_time_min`.  The program's logic creates equivalence classes for these variables.  Any `salary` value less than or equal to 50,000 is in one class, and any value greater than 50,000 is in another equivalence class.  Similarly, any value for `commute_time_min` < 60 is in one class, and all other values are in another.  `free_coffee` only has two possibilities.\n",
    "\n",
    "| Salary | Commute Time | Free Coffee | Expected Output\n",
    "|  ----: | ----: | :---- | :---- |\n",
    "| 50000  | | | I'm worth more than that\n",
    "| 60000  | 70 |  | I don't want to drive that far\n",
    "| 60000  | 50 | True | Cool.  I'm going to like this job\n",
    "| 60000  | 50 | False | Close location and I like the salary, but I NEED coffee"
   ]
  },
  {
   "cell_type": "markdown",
   "id": "9780531a",
   "metadata": {},
   "source": [
    "## Boolean Operators\n",
    "Python offers three Boolean (logical) operators.\n",
    "\n",
    "### And\n",
    "The `and` operator joins two conditional expressions and ensures that both are `True` for the \"true block\" to execute. If either of the conditions is `False`, then the entire `and` expression evaluates to `False`."
   ]
  },
  {
   "cell_type": "code",
   "execution_count": null,
   "id": "709e7f76",
   "metadata": {},
   "outputs": [],
   "source": [
    "age = 21\n",
    "gender = \"Male\"\n",
    "if gender == \"Male\" and age < 25:\n",
    "    print (\"You will need to take out a loan to buy car insurance!\")\n",
    "else:\n",
    "    print (\"Maybe car insurance won't be too expensive for you...\")"
   ]
  },
  {
   "cell_type": "markdown",
   "id": "3cf9ed86",
   "metadata": {},
   "source": [
    "Practice running the above code block with different values for age and gender.\n",
    "\n",
    "### Or\n",
    "The `or` operator also joins two conditional expressions. If at least one of the expressions evaluates to `True`, then it evaluates to `True`. Only if both expressions are `False` will the expression evaluate to `False`."
   ]
  },
  {
   "cell_type": "code",
   "execution_count": null,
   "id": "1ee0d6d4",
   "metadata": {},
   "outputs": [],
   "source": [
    "outlook = \"overcast\"\n",
    "humidity = \"low\"\n",
    "if outlook == \"sunny\" or humidity == \"low\":\n",
    "    print(\"Play golf!\")"
   ]
  },
  {
   "cell_type": "markdown",
   "id": "0dbf0ee6",
   "metadata": {},
   "source": [
    "### Not\n",
    "The `not` operator (aka \"logical complement\", \"negation\") reverses the value of a Boolean.  That is, `False` becomes `True`, and `True` becomes `False`."
   ]
  },
  {
   "cell_type": "code",
   "execution_count": null,
   "id": "9ece4d28",
   "metadata": {},
   "outputs": [],
   "source": [
    "a = 10\n",
    "if not (a > 15):\n",
    "    print (\"I'm here\")"
   ]
  },
  {
   "cell_type": "markdown",
   "id": "34c8a108",
   "metadata": {},
   "source": [
    "## Short-Circuit Evaluation\n",
    "Like most other programming languages, the `and` and `or` operators utilize [short-circuit evaluation](https://en.wikipedia.org/wiki/Short-circuit_evaluation). Once the Python interpreter can determine the outcome of a Boolean expression, the interpreter no longer needs to continue evaluation.\n",
    "\n",
    "For `and`, if the first expression evaluates to `False`, the second expression will not be evaluated as the  result of the operator will always be `False`. \n",
    "\n",
    "For `or`, if the first expression evaluates to `True`, the second expression will not be evaluated as the result of the operator will always be `True`.\n",
    "\n",
    "Note: `def` allows us to create functions that the next notebook will present."
   ]
  },
  {
   "cell_type": "code",
   "execution_count": null,
   "id": "119a9517",
   "metadata": {},
   "outputs": [],
   "source": [
    "def expr(num, result):\n",
    "    print ('evaluating', num, result)\n",
    "    return result\n",
    "\n",
    "if expr(1,False) and expr(2,True):\n",
    "    print (\"expr #1 was True\\n\")\n",
    "else:\n",
    "    print (\"expr #1 was false\\n\")\n",
    "    \n",
    "if expr(1,True) or expr(2,True):\n",
    "    print (\"expr #2 was True\\n\")\n",
    "else:\n",
    "    print (\"expr #2 was false\\n\")\n",
    "    \n",
    "if expr(1,False) or expr(2,True):\n",
    "    print (\"expr #3 was True\\n\")\n",
    "else:\n",
    "    print (\"If #3 was false\\n\")   "
   ]
  },
  {
   "cell_type": "markdown",
   "id": "d7e4a823",
   "metadata": {},
   "source": [
    "The result of a logical expression is not always `True` or `False`;  the Python interpreter returns the last value evaluated."
   ]
  },
  {
   "cell_type": "code",
   "execution_count": null,
   "id": "c7b5e26e",
   "metadata": {},
   "outputs": [],
   "source": [
    "a = 0\n",
    "b = 3\n",
    "x = b or a\n",
    "print(x)"
   ]
  },
  {
   "cell_type": "markdown",
   "id": "bfcf7fd0",
   "metadata": {},
   "source": [
    "If you need a boolean result, then force the conversion to boolean with the built-in function `bool()`"
   ]
  },
  {
   "cell_type": "code",
   "execution_count": null,
   "id": "7fa22ce1",
   "metadata": {},
   "outputs": [],
   "source": [
    "print(bool(b or a))"
   ]
  },
  {
   "cell_type": "markdown",
   "id": "34ceec4c",
   "metadata": {},
   "source": [
    "Here is an example where the behavior would be useful:\n",
    "```\n",
    "key = load_secret_key() or 'randomStringValue'\n",
    "```\n",
    "The Python interpreter will try to load the secret key from some configuration using the function `load_secret_key()`. If that function does not return a valid value, then the interpreter assigns the value of `'randomStringValue'` to `key`."
   ]
  },
  {
   "cell_type": "markdown",
   "id": "ddc3f9a8",
   "metadata": {},
   "source": [
    "Programmers can use multiple `and` and `or` clauses in the same expression.  Use parenthesis to ensure the correct order of operations / logical meaning."
   ]
  },
  {
   "cell_type": "code",
   "execution_count": null,
   "id": "981f74ff",
   "metadata": {},
   "outputs": [],
   "source": [
    "def expr(num, result):\n",
    "    print ('evaluating', num, result)\n",
    "    return result\n",
    "\n",
    "print (expr(1,True) and (expr(2,False) or expr(3,True)))"
   ]
  },
  {
   "cell_type": "markdown",
   "id": "e578330c",
   "metadata": {},
   "source": [
    "## Footnote\n",
    "Historically, in Python, a group of statements executed together is called a \"suite\".  However, most other programming languages and even the [Python Grammer Specification](https://docs.python.org/3/reference/grammar.html) refer to this as a block. Therefore, we will use the term \"block\" for this class."
   ]
  },
  {
   "cell_type": "markdown",
   "id": "5c689369",
   "metadata": {},
   "source": [
    "## Variables Revisited\n",
    "Think of variables as values with names; those names describe what those values represent.\n",
    "\n",
    "Variables appear within our Python programs under one of these three usages:\n",
    "1. To declare and set a value to the variable. \n",
    "2. To assign the variable to a new value (object)\n",
    "3. Use the variable - whether in an expression or outputting the value in some fashion\n",
    "\n",
    "As we declare a variable, remember that the name must be a legal identifier: The variable name must start with a letter or an underscore.  The variable name only contains letters, numbers, and underscores.  The variable name can not be one of Python's reserved words.\n",
    "\n",
    "Before we use a variable, we must declare it first and assign some value to it.\n",
    "\n",
    "To assign a value to a variable, we use an assignment operator:\n",
    "<pre>\n",
    "a = 45 * 10\n",
    "</pre>\n",
    "Programmers read that line of code as \"set a to the value of 45 times 10\" or \"a is assigned <i>expression</i>\".\n",
    "\n",
    "The first time a variable is assigned a value is also known as initializing the variable.\n",
    "\n",
    "Once a variable has been assigned a value or to an existing object, programmers can then use that variable in other statements and expressions."
   ]
  },
  {
   "cell_type": "code",
   "execution_count": null,
   "id": "ffbaec4f",
   "metadata": {},
   "outputs": [],
   "source": [
    "a = 45 * 10;\n",
    "print(a)\n",
    "b = a // 30;\n",
    "print(b)"
   ]
  },
  {
   "cell_type": "markdown",
   "id": "6cbb54f0",
   "metadata": {},
   "source": [
    "Unlike many other programming languages, Python is dynamically-typed. Therefore, we can change the variable's type by assigning different values(objects) to the variable."
   ]
  },
  {
   "cell_type": "markdown",
   "id": "2667f27f",
   "metadata": {},
   "source": [
    "## Exercises"
   ]
  },
  {
   "cell_type": "markdown",
   "id": "21525bf3",
   "metadata": {},
   "source": [
    "1. Paycheck<br>\n",
    "   Write a program that computes a simple weekly paycheck for an individual. Prompt the user to enter the number of hours worked and the pay rate. If an individual works over 40 hours, then the individual is paid at 1.5 times the hourly rate for the hours worked over 40. Print the initial total. Of course, the government taxes the individualʼs pay. Assume the tax rate is 20%. Print the amount withheld for taxes. Then print the net amount to be paid to the individual."
   ]
  },
  {
   "cell_type": "markdown",
   "id": "c53ac97a",
   "metadata": {},
   "source": [
    "2. Stock Gain (or loss)<br>\n",
    "   Write a program that allows the user to enter two successive closing prices for a stock.  Compute the daily percentage gain or loss. If the gain was positive, print the message \"The stock price increased by\" and the percentage increase.\n",
    "If the gain was negative, print the message \"The stock price decreased by\" and the percentage decrease.\n",
    "Otherwise, print \"No change to the stock price.\""
   ]
  },
  {
   "cell_type": "markdown",
   "id": "5836a6af",
   "metadata": {},
   "source": [
    "3. Failed short-circuit evaluation?<br>\n",
    "   In the following code block, why does it appear that the rules for the short-circuit evaluation are not followed? And the result is `True`?"
   ]
  },
  {
   "cell_type": "code",
   "execution_count": null,
   "id": "02f9262e",
   "metadata": {},
   "outputs": [],
   "source": [
    "def test(num, result):\n",
    "    print ('evaluating', num, result)\n",
    "    return result\n",
    "\n",
    "print (test(1,\"False\") and test(2,\"True\"))"
   ]
  }
 ],
 "metadata": {
  "kernelspec": {
   "display_name": "Python 3 (ipykernel)",
   "language": "python",
   "name": "python3"
  },
  "language_info": {
   "codemirror_mode": {
    "name": "ipython",
    "version": 3
   },
   "file_extension": ".py",
   "mimetype": "text/x-python",
   "name": "python",
   "nbconvert_exporter": "python",
   "pygments_lexer": "ipython3",
   "version": "3.10.4"
  }
 },
 "nbformat": 4,
 "nbformat_minor": 5
}
